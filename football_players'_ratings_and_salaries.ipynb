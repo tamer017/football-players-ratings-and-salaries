{
  "nbformat": 4,
  "nbformat_minor": 0,
  "metadata": {
    "colab": {
      "name": "football players' ratings and salaries.ipynb",
      "provenance": [],
      "authorship_tag": "ABX9TyMV73kDm5TGrd9np5EkZFMv",
      "include_colab_link": true
    },
    "kernelspec": {
      "name": "python3",
      "display_name": "Python 3"
    },
    "language_info": {
      "name": "python"
    }
  },
  "cells": [
    {
      "cell_type": "markdown",
      "metadata": {
        "id": "view-in-github",
        "colab_type": "text"
      },
      "source": [
        "<a href=\"https://colab.research.google.com/github/tamer017/football-players-ratings-and-salaries/blob/main/football_players'_ratings_and_salaries.ipynb\" target=\"_parent\"><img src=\"https://colab.research.google.com/assets/colab-badge.svg\" alt=\"Open In Colab\"/></a>"
      ]
    },
    {
      "cell_type": "code",
      "source": [
        "import pandas as pd \n",
        "import seaborn as sns\n",
        "import numpy as np\n",
        "import matplotlib.pyplot as plt"
      ],
      "metadata": {
        "id": "fQ6_7DC5yFPq"
      },
      "execution_count": 40,
      "outputs": []
    },
    {
      "cell_type": "code",
      "source": [
        "from google.colab import drive\n",
        "drive.mount('/content/drive')"
      ],
      "metadata": {
        "colab": {
          "base_uri": "https://localhost:8080/"
        },
        "id": "afLTmU7cpzjv",
        "outputId": "7d819cf4-ae8d-4899-e88a-380d09e8c167"
      },
      "execution_count": 41,
      "outputs": [
        {
          "output_type": "stream",
          "name": "stdout",
          "text": [
            "Drive already mounted at /content/drive; to attempt to forcibly remount, call drive.mount(\"/content/drive\", force_remount=True).\n"
          ]
        }
      ]
    },
    {
      "cell_type": "code",
      "execution_count": 52,
      "metadata": {
        "id": "qX7i5wk_pBB1",
        "colab": {
          "base_uri": "https://localhost:8080/"
        },
        "outputId": "125292b5-e5cb-4997-9e8a-4bda3bdb2d68"
      },
      "outputs": [
        {
          "output_type": "stream",
          "name": "stderr",
          "text": [
            "/usr/local/lib/python3.7/dist-packages/IPython/core/interactiveshell.py:2882: DtypeWarning: Columns (23,35) have mixed types.Specify dtype option on import or set low_memory=False.\n",
            "  exec(code_obj, self.user_global_ns, self.user_ns)\n"
          ]
        }
      ],
      "source": [
        "data=pd.read_csv('/content/drive/MyDrive/CompleteDataset.csv')"
      ]
    },
    {
      "cell_type": "code",
      "source": [
        "# no need for player name or photo or any information about the country\n",
        "# also no need for the position data we will use the prefared position\n",
        "data.drop(['Unnamed: 0' , 'Name','Photo', 'Flag',\n",
        "       'Club Logo', 'CAM', 'CB', 'CDM', 'CF', 'CM', 'ID',\n",
        "       'LAM', 'LB', 'LCB', 'LCM', 'LDM', 'LF', 'LM', 'LS', 'LW', 'LWB',\n",
        "       'RAM', 'RB', 'RCB', 'RCM', 'RDM', 'RF', 'RM',\"Potential\",\n",
        "       'RS', 'RW', 'RWB', 'ST'],axis=1,inplace=True)\n",
        "data.head()\n"
      ],
      "metadata": {
        "colab": {
          "base_uri": "https://localhost:8080/",
          "height": 456
        },
        "id": "WZMMc7BerN_a",
        "outputId": "2a42566b-68d9-4e42-c35a-626b54bfb466"
      },
      "execution_count": 53,
      "outputs": [
        {
          "output_type": "execute_result",
          "data": {
            "text/plain": [
              "   Age Nationality  Overall                 Club   Value   Wage  Special  \\\n",
              "0   32    Portugal       94       Real Madrid CF  €95.5M  €565K     2228   \n",
              "1   30   Argentina       93         FC Barcelona   €105M  €565K     2154   \n",
              "2   25      Brazil       92  Paris Saint-Germain   €123M  €280K     2100   \n",
              "3   30     Uruguay       92         FC Barcelona    €97M  €510K     2291   \n",
              "4   31     Germany       92     FC Bayern Munich    €61M  €230K     1493   \n",
              "\n",
              "  Acceleration Aggression Agility  ... Short passing Shot power  \\\n",
              "0           89         63      89  ...            83         94   \n",
              "1           92         48      90  ...            88         85   \n",
              "2           94         56      96  ...            81         80   \n",
              "3           88         78      86  ...            83         87   \n",
              "4           58         29      52  ...            55         25   \n",
              "\n",
              "  Sliding tackle Sprint speed Stamina Standing tackle Strength Vision Volleys  \\\n",
              "0             23           91      92              31       80     85      88   \n",
              "1             26           87      73              28       59     90      85   \n",
              "2             33           90      78              24       53     80      83   \n",
              "3             38           77      89              45       80     84      88   \n",
              "4             11           61      44              10       83     70      11   \n",
              "\n",
              "  Preferred Positions  \n",
              "0              ST LW   \n",
              "1                 RW   \n",
              "2                 LW   \n",
              "3                 ST   \n",
              "4                 GK   \n",
              "\n",
              "[5 rows x 42 columns]"
            ],
            "text/html": [
              "\n",
              "  <div id=\"df-d91ec6cd-01a9-47f7-9f6f-c9e80b9a2f99\">\n",
              "    <div class=\"colab-df-container\">\n",
              "      <div>\n",
              "<style scoped>\n",
              "    .dataframe tbody tr th:only-of-type {\n",
              "        vertical-align: middle;\n",
              "    }\n",
              "\n",
              "    .dataframe tbody tr th {\n",
              "        vertical-align: top;\n",
              "    }\n",
              "\n",
              "    .dataframe thead th {\n",
              "        text-align: right;\n",
              "    }\n",
              "</style>\n",
              "<table border=\"1\" class=\"dataframe\">\n",
              "  <thead>\n",
              "    <tr style=\"text-align: right;\">\n",
              "      <th></th>\n",
              "      <th>Age</th>\n",
              "      <th>Nationality</th>\n",
              "      <th>Overall</th>\n",
              "      <th>Club</th>\n",
              "      <th>Value</th>\n",
              "      <th>Wage</th>\n",
              "      <th>Special</th>\n",
              "      <th>Acceleration</th>\n",
              "      <th>Aggression</th>\n",
              "      <th>Agility</th>\n",
              "      <th>...</th>\n",
              "      <th>Short passing</th>\n",
              "      <th>Shot power</th>\n",
              "      <th>Sliding tackle</th>\n",
              "      <th>Sprint speed</th>\n",
              "      <th>Stamina</th>\n",
              "      <th>Standing tackle</th>\n",
              "      <th>Strength</th>\n",
              "      <th>Vision</th>\n",
              "      <th>Volleys</th>\n",
              "      <th>Preferred Positions</th>\n",
              "    </tr>\n",
              "  </thead>\n",
              "  <tbody>\n",
              "    <tr>\n",
              "      <th>0</th>\n",
              "      <td>32</td>\n",
              "      <td>Portugal</td>\n",
              "      <td>94</td>\n",
              "      <td>Real Madrid CF</td>\n",
              "      <td>€95.5M</td>\n",
              "      <td>€565K</td>\n",
              "      <td>2228</td>\n",
              "      <td>89</td>\n",
              "      <td>63</td>\n",
              "      <td>89</td>\n",
              "      <td>...</td>\n",
              "      <td>83</td>\n",
              "      <td>94</td>\n",
              "      <td>23</td>\n",
              "      <td>91</td>\n",
              "      <td>92</td>\n",
              "      <td>31</td>\n",
              "      <td>80</td>\n",
              "      <td>85</td>\n",
              "      <td>88</td>\n",
              "      <td>ST LW</td>\n",
              "    </tr>\n",
              "    <tr>\n",
              "      <th>1</th>\n",
              "      <td>30</td>\n",
              "      <td>Argentina</td>\n",
              "      <td>93</td>\n",
              "      <td>FC Barcelona</td>\n",
              "      <td>€105M</td>\n",
              "      <td>€565K</td>\n",
              "      <td>2154</td>\n",
              "      <td>92</td>\n",
              "      <td>48</td>\n",
              "      <td>90</td>\n",
              "      <td>...</td>\n",
              "      <td>88</td>\n",
              "      <td>85</td>\n",
              "      <td>26</td>\n",
              "      <td>87</td>\n",
              "      <td>73</td>\n",
              "      <td>28</td>\n",
              "      <td>59</td>\n",
              "      <td>90</td>\n",
              "      <td>85</td>\n",
              "      <td>RW</td>\n",
              "    </tr>\n",
              "    <tr>\n",
              "      <th>2</th>\n",
              "      <td>25</td>\n",
              "      <td>Brazil</td>\n",
              "      <td>92</td>\n",
              "      <td>Paris Saint-Germain</td>\n",
              "      <td>€123M</td>\n",
              "      <td>€280K</td>\n",
              "      <td>2100</td>\n",
              "      <td>94</td>\n",
              "      <td>56</td>\n",
              "      <td>96</td>\n",
              "      <td>...</td>\n",
              "      <td>81</td>\n",
              "      <td>80</td>\n",
              "      <td>33</td>\n",
              "      <td>90</td>\n",
              "      <td>78</td>\n",
              "      <td>24</td>\n",
              "      <td>53</td>\n",
              "      <td>80</td>\n",
              "      <td>83</td>\n",
              "      <td>LW</td>\n",
              "    </tr>\n",
              "    <tr>\n",
              "      <th>3</th>\n",
              "      <td>30</td>\n",
              "      <td>Uruguay</td>\n",
              "      <td>92</td>\n",
              "      <td>FC Barcelona</td>\n",
              "      <td>€97M</td>\n",
              "      <td>€510K</td>\n",
              "      <td>2291</td>\n",
              "      <td>88</td>\n",
              "      <td>78</td>\n",
              "      <td>86</td>\n",
              "      <td>...</td>\n",
              "      <td>83</td>\n",
              "      <td>87</td>\n",
              "      <td>38</td>\n",
              "      <td>77</td>\n",
              "      <td>89</td>\n",
              "      <td>45</td>\n",
              "      <td>80</td>\n",
              "      <td>84</td>\n",
              "      <td>88</td>\n",
              "      <td>ST</td>\n",
              "    </tr>\n",
              "    <tr>\n",
              "      <th>4</th>\n",
              "      <td>31</td>\n",
              "      <td>Germany</td>\n",
              "      <td>92</td>\n",
              "      <td>FC Bayern Munich</td>\n",
              "      <td>€61M</td>\n",
              "      <td>€230K</td>\n",
              "      <td>1493</td>\n",
              "      <td>58</td>\n",
              "      <td>29</td>\n",
              "      <td>52</td>\n",
              "      <td>...</td>\n",
              "      <td>55</td>\n",
              "      <td>25</td>\n",
              "      <td>11</td>\n",
              "      <td>61</td>\n",
              "      <td>44</td>\n",
              "      <td>10</td>\n",
              "      <td>83</td>\n",
              "      <td>70</td>\n",
              "      <td>11</td>\n",
              "      <td>GK</td>\n",
              "    </tr>\n",
              "  </tbody>\n",
              "</table>\n",
              "<p>5 rows × 42 columns</p>\n",
              "</div>\n",
              "      <button class=\"colab-df-convert\" onclick=\"convertToInteractive('df-d91ec6cd-01a9-47f7-9f6f-c9e80b9a2f99')\"\n",
              "              title=\"Convert this dataframe to an interactive table.\"\n",
              "              style=\"display:none;\">\n",
              "        \n",
              "  <svg xmlns=\"http://www.w3.org/2000/svg\" height=\"24px\"viewBox=\"0 0 24 24\"\n",
              "       width=\"24px\">\n",
              "    <path d=\"M0 0h24v24H0V0z\" fill=\"none\"/>\n",
              "    <path d=\"M18.56 5.44l.94 2.06.94-2.06 2.06-.94-2.06-.94-.94-2.06-.94 2.06-2.06.94zm-11 1L8.5 8.5l.94-2.06 2.06-.94-2.06-.94L8.5 2.5l-.94 2.06-2.06.94zm10 10l.94 2.06.94-2.06 2.06-.94-2.06-.94-.94-2.06-.94 2.06-2.06.94z\"/><path d=\"M17.41 7.96l-1.37-1.37c-.4-.4-.92-.59-1.43-.59-.52 0-1.04.2-1.43.59L10.3 9.45l-7.72 7.72c-.78.78-.78 2.05 0 2.83L4 21.41c.39.39.9.59 1.41.59.51 0 1.02-.2 1.41-.59l7.78-7.78 2.81-2.81c.8-.78.8-2.07 0-2.86zM5.41 20L4 18.59l7.72-7.72 1.47 1.35L5.41 20z\"/>\n",
              "  </svg>\n",
              "      </button>\n",
              "      \n",
              "  <style>\n",
              "    .colab-df-container {\n",
              "      display:flex;\n",
              "      flex-wrap:wrap;\n",
              "      gap: 12px;\n",
              "    }\n",
              "\n",
              "    .colab-df-convert {\n",
              "      background-color: #E8F0FE;\n",
              "      border: none;\n",
              "      border-radius: 50%;\n",
              "      cursor: pointer;\n",
              "      display: none;\n",
              "      fill: #1967D2;\n",
              "      height: 32px;\n",
              "      padding: 0 0 0 0;\n",
              "      width: 32px;\n",
              "    }\n",
              "\n",
              "    .colab-df-convert:hover {\n",
              "      background-color: #E2EBFA;\n",
              "      box-shadow: 0px 1px 2px rgba(60, 64, 67, 0.3), 0px 1px 3px 1px rgba(60, 64, 67, 0.15);\n",
              "      fill: #174EA6;\n",
              "    }\n",
              "\n",
              "    [theme=dark] .colab-df-convert {\n",
              "      background-color: #3B4455;\n",
              "      fill: #D2E3FC;\n",
              "    }\n",
              "\n",
              "    [theme=dark] .colab-df-convert:hover {\n",
              "      background-color: #434B5C;\n",
              "      box-shadow: 0px 1px 3px 1px rgba(0, 0, 0, 0.15);\n",
              "      filter: drop-shadow(0px 1px 2px rgba(0, 0, 0, 0.3));\n",
              "      fill: #FFFFFF;\n",
              "    }\n",
              "  </style>\n",
              "\n",
              "      <script>\n",
              "        const buttonEl =\n",
              "          document.querySelector('#df-d91ec6cd-01a9-47f7-9f6f-c9e80b9a2f99 button.colab-df-convert');\n",
              "        buttonEl.style.display =\n",
              "          google.colab.kernel.accessAllowed ? 'block' : 'none';\n",
              "\n",
              "        async function convertToInteractive(key) {\n",
              "          const element = document.querySelector('#df-d91ec6cd-01a9-47f7-9f6f-c9e80b9a2f99');\n",
              "          const dataTable =\n",
              "            await google.colab.kernel.invokeFunction('convertToInteractive',\n",
              "                                                     [key], {});\n",
              "          if (!dataTable) return;\n",
              "\n",
              "          const docLinkHtml = 'Like what you see? Visit the ' +\n",
              "            '<a target=\"_blank\" href=https://colab.research.google.com/notebooks/data_table.ipynb>data table notebook</a>'\n",
              "            + ' to learn more about interactive tables.';\n",
              "          element.innerHTML = '';\n",
              "          dataTable['output_type'] = 'display_data';\n",
              "          await google.colab.output.renderOutput(dataTable, element);\n",
              "          const docLink = document.createElement('div');\n",
              "          docLink.innerHTML = docLinkHtml;\n",
              "          element.appendChild(docLink);\n",
              "        }\n",
              "      </script>\n",
              "    </div>\n",
              "  </div>\n",
              "  "
            ]
          },
          "metadata": {},
          "execution_count": 53
        }
      ]
    },
    {
      "cell_type": "code",
      "source": [
        "data.info()"
      ],
      "metadata": {
        "colab": {
          "base_uri": "https://localhost:8080/"
        },
        "id": "jCAe0gzSrZ1x",
        "outputId": "50b711ad-093f-4725-f251-c5d7ae4b1767"
      },
      "execution_count": 54,
      "outputs": [
        {
          "output_type": "stream",
          "name": "stdout",
          "text": [
            "<class 'pandas.core.frame.DataFrame'>\n",
            "RangeIndex: 17981 entries, 0 to 17980\n",
            "Data columns (total 42 columns):\n",
            " #   Column               Non-Null Count  Dtype \n",
            "---  ------               --------------  ----- \n",
            " 0   Age                  17981 non-null  int64 \n",
            " 1   Nationality          17981 non-null  object\n",
            " 2   Overall              17981 non-null  int64 \n",
            " 3   Club                 17733 non-null  object\n",
            " 4   Value                17981 non-null  object\n",
            " 5   Wage                 17981 non-null  object\n",
            " 6   Special              17981 non-null  int64 \n",
            " 7   Acceleration         17981 non-null  object\n",
            " 8   Aggression           17981 non-null  object\n",
            " 9   Agility              17981 non-null  object\n",
            " 10  Balance              17981 non-null  object\n",
            " 11  Ball control         17981 non-null  object\n",
            " 12  Composure            17981 non-null  object\n",
            " 13  Crossing             17981 non-null  object\n",
            " 14  Curve                17981 non-null  object\n",
            " 15  Dribbling            17981 non-null  object\n",
            " 16  Finishing            17981 non-null  object\n",
            " 17  Free kick accuracy   17981 non-null  object\n",
            " 18  GK diving            17981 non-null  object\n",
            " 19  GK handling          17981 non-null  object\n",
            " 20  GK kicking           17981 non-null  object\n",
            " 21  GK positioning       17981 non-null  object\n",
            " 22  GK reflexes          17981 non-null  object\n",
            " 23  Heading accuracy     17981 non-null  object\n",
            " 24  Interceptions        17981 non-null  object\n",
            " 25  Jumping              17981 non-null  object\n",
            " 26  Long passing         17981 non-null  object\n",
            " 27  Long shots           17981 non-null  object\n",
            " 28  Marking              17981 non-null  object\n",
            " 29  Penalties            17981 non-null  object\n",
            " 30  Positioning          17981 non-null  object\n",
            " 31  Reactions            17981 non-null  object\n",
            " 32  Short passing        17981 non-null  object\n",
            " 33  Shot power           17981 non-null  object\n",
            " 34  Sliding tackle       17981 non-null  object\n",
            " 35  Sprint speed         17981 non-null  object\n",
            " 36  Stamina              17981 non-null  object\n",
            " 37  Standing tackle      17981 non-null  object\n",
            " 38  Strength             17981 non-null  object\n",
            " 39  Vision               17981 non-null  object\n",
            " 40  Volleys              17981 non-null  object\n",
            " 41  Preferred Positions  17981 non-null  object\n",
            "dtypes: int64(3), object(39)\n",
            "memory usage: 5.8+ MB\n"
          ]
        }
      ]
    },
    {
      "cell_type": "code",
      "source": [
        "data.dropna(axis=0,inplace=True)"
      ],
      "metadata": {
        "id": "uGJQsZb0rwHh"
      },
      "execution_count": 55,
      "outputs": []
    },
    {
      "cell_type": "code",
      "source": [
        "data.isnull().sum()"
      ],
      "metadata": {
        "colab": {
          "base_uri": "https://localhost:8080/"
        },
        "id": "WBZiXi4VsMTt",
        "outputId": "a74a5bbb-6e71-4df7-b88e-facb8bc24d55"
      },
      "execution_count": 56,
      "outputs": [
        {
          "output_type": "execute_result",
          "data": {
            "text/plain": [
              "Age                    0\n",
              "Nationality            0\n",
              "Overall                0\n",
              "Club                   0\n",
              "Value                  0\n",
              "Wage                   0\n",
              "Special                0\n",
              "Acceleration           0\n",
              "Aggression             0\n",
              "Agility                0\n",
              "Balance                0\n",
              "Ball control           0\n",
              "Composure              0\n",
              "Crossing               0\n",
              "Curve                  0\n",
              "Dribbling              0\n",
              "Finishing              0\n",
              "Free kick accuracy     0\n",
              "GK diving              0\n",
              "GK handling            0\n",
              "GK kicking             0\n",
              "GK positioning         0\n",
              "GK reflexes            0\n",
              "Heading accuracy       0\n",
              "Interceptions          0\n",
              "Jumping                0\n",
              "Long passing           0\n",
              "Long shots             0\n",
              "Marking                0\n",
              "Penalties              0\n",
              "Positioning            0\n",
              "Reactions              0\n",
              "Short passing          0\n",
              "Shot power             0\n",
              "Sliding tackle         0\n",
              "Sprint speed           0\n",
              "Stamina                0\n",
              "Standing tackle        0\n",
              "Strength               0\n",
              "Vision                 0\n",
              "Volleys                0\n",
              "Preferred Positions    0\n",
              "dtype: int64"
            ]
          },
          "metadata": {},
          "execution_count": 56
        }
      ]
    },
    {
      "cell_type": "code",
      "source": [
        "columns_to_convert=['Acceleration', 'Aggression', 'Agility', 'Balance', 'Ball control',\n",
        "       'Composure', 'Crossing', 'Curve', 'Dribbling', 'Finishing',\n",
        "       'Free kick accuracy', 'GK diving', 'GK handling', 'GK kicking',\n",
        "       'GK positioning', 'GK reflexes', 'Heading accuracy', 'Interceptions',\n",
        "       'Jumping', 'Long passing', 'Long shots', 'Marking', 'Penalties',\n",
        "       'Positioning', 'Reactions', 'Short passing', 'Shot power',\n",
        "       'Sliding tackle', 'Sprint speed', 'Stamina', 'Standing tackle',\n",
        "       'Strength', 'Vision', 'Volleys']\n",
        "for col in columns_to_convert:\n",
        "  data[col]=pd.to_numeric(data[col])\n",
        "# .astype(int)\n"
      ],
      "metadata": {
        "id": "fSVVdVSZ5o8U",
        "outputId": "f5f9902a-6504-404c-a493-32d6fd46d323",
        "colab": {
          "base_uri": "https://localhost:8080/",
          "height": 519
        }
      },
      "execution_count": 62,
      "outputs": [
        {
          "output_type": "error",
          "ename": "ValueError",
          "evalue": "ignored",
          "traceback": [
            "\u001b[0;31m---------------------------------------------------------------------------\u001b[0m",
            "\u001b[0;31mValueError\u001b[0m                                Traceback (most recent call last)",
            "\u001b[0;32m/usr/local/lib/python3.7/dist-packages/pandas/_libs/lib.pyx\u001b[0m in \u001b[0;36mpandas._libs.lib.maybe_convert_numeric\u001b[0;34m()\u001b[0m\n",
            "\u001b[0;31mValueError\u001b[0m: Unable to parse string \"70+9\"",
            "\nDuring handling of the above exception, another exception occurred:\n",
            "\u001b[0;31mValueError\u001b[0m                                Traceback (most recent call last)",
            "\u001b[0;32m<ipython-input-62-2062910b58db>\u001b[0m in \u001b[0;36m<module>\u001b[0;34m()\u001b[0m\n\u001b[1;32m      8\u001b[0m        'Strength', 'Vision', 'Volleys']\n\u001b[1;32m      9\u001b[0m \u001b[0;32mfor\u001b[0m \u001b[0mcol\u001b[0m \u001b[0;32min\u001b[0m \u001b[0mcolumns_to_convert\u001b[0m\u001b[0;34m:\u001b[0m\u001b[0;34m\u001b[0m\u001b[0;34m\u001b[0m\u001b[0m\n\u001b[0;32m---> 10\u001b[0;31m   \u001b[0mdata\u001b[0m\u001b[0;34m[\u001b[0m\u001b[0mcol\u001b[0m\u001b[0;34m]\u001b[0m\u001b[0;34m=\u001b[0m\u001b[0mpd\u001b[0m\u001b[0;34m.\u001b[0m\u001b[0mto_numeric\u001b[0m\u001b[0;34m(\u001b[0m\u001b[0mdata\u001b[0m\u001b[0;34m[\u001b[0m\u001b[0mcol\u001b[0m\u001b[0;34m]\u001b[0m\u001b[0;34m)\u001b[0m\u001b[0;34m\u001b[0m\u001b[0;34m\u001b[0m\u001b[0m\n\u001b[0m\u001b[1;32m     11\u001b[0m \u001b[0;31m# .astype(int)\u001b[0m\u001b[0;34m\u001b[0m\u001b[0;34m\u001b[0m\u001b[0;34m\u001b[0m\u001b[0m\n",
            "\u001b[0;32m/usr/local/lib/python3.7/dist-packages/pandas/core/tools/numeric.py\u001b[0m in \u001b[0;36mto_numeric\u001b[0;34m(arg, errors, downcast)\u001b[0m\n\u001b[1;32m    182\u001b[0m         \u001b[0;32mtry\u001b[0m\u001b[0;34m:\u001b[0m\u001b[0;34m\u001b[0m\u001b[0;34m\u001b[0m\u001b[0m\n\u001b[1;32m    183\u001b[0m             values, _ = lib.maybe_convert_numeric(\n\u001b[0;32m--> 184\u001b[0;31m                 \u001b[0mvalues\u001b[0m\u001b[0;34m,\u001b[0m \u001b[0mset\u001b[0m\u001b[0;34m(\u001b[0m\u001b[0;34m)\u001b[0m\u001b[0;34m,\u001b[0m \u001b[0mcoerce_numeric\u001b[0m\u001b[0;34m=\u001b[0m\u001b[0mcoerce_numeric\u001b[0m\u001b[0;34m\u001b[0m\u001b[0;34m\u001b[0m\u001b[0m\n\u001b[0m\u001b[1;32m    185\u001b[0m             )\n\u001b[1;32m    186\u001b[0m         \u001b[0;32mexcept\u001b[0m \u001b[0;34m(\u001b[0m\u001b[0mValueError\u001b[0m\u001b[0;34m,\u001b[0m \u001b[0mTypeError\u001b[0m\u001b[0;34m)\u001b[0m\u001b[0;34m:\u001b[0m\u001b[0;34m\u001b[0m\u001b[0;34m\u001b[0m\u001b[0m\n",
            "\u001b[0;32m/usr/local/lib/python3.7/dist-packages/pandas/_libs/lib.pyx\u001b[0m in \u001b[0;36mpandas._libs.lib.maybe_convert_numeric\u001b[0;34m()\u001b[0m\n",
            "\u001b[0;31mValueError\u001b[0m: Unable to parse string \"70+9\" at position 306"
          ]
        }
      ]
    },
    {
      "cell_type": "code",
      "source": [
        "data.iloc[306,:]\n",
        "\n",
        "\n",
        "\n",
        "# plt.figure(figsize=(40,30))\n",
        "# sns.heatmap(data.corr(),annot=True)\n",
        "# plt.show()\n",
        "\n"
      ],
      "metadata": {
        "colab": {
          "base_uri": "https://localhost:8080/"
        },
        "id": "UEvpugEBxvV8",
        "outputId": "64343f3d-e474-4f9f-f907-565d4c10801c"
      },
      "execution_count": 63,
      "outputs": [
        {
          "output_type": "execute_result",
          "data": {
            "text/plain": [
              "Age                         21\n",
              "Nationality            Denmark\n",
              "Overall                     81\n",
              "Club                   Chelsea\n",
              "Value                     €23M\n",
              "Wage                      €86K\n",
              "Special                   1720\n",
              "Acceleration              70+9\n",
              "Aggression                  73\n",
              "Agility                   60+6\n",
              "Balance                     62\n",
              "Ball control                72\n",
              "Composure                 74+2\n",
              "Crossing                    49\n",
              "Curve                       32\n",
              "Dribbling                 68+3\n",
              "Finishing                   36\n",
              "Free kick accuracy          22\n",
              "GK diving                   10\n",
              "GK handling                 12\n",
              "GK kicking                   8\n",
              "GK positioning               6\n",
              "GK reflexes                  8\n",
              "Heading accuracy            79\n",
              "Interceptions               81\n",
              "Jumping                     74\n",
              "Long passing              72+2\n",
              "Long shots                  20\n",
              "Marking                     83\n",
              "Penalties                   36\n",
              "Positioning                 32\n",
              "Reactions                   80\n",
              "Short passing               76\n",
              "Shot power                  31\n",
              "Sliding tackle              84\n",
              "Sprint speed              73+7\n",
              "Stamina                   68+2\n",
              "Standing tackle             88\n",
              "Strength                  70+1\n",
              "Vision                      60\n",
              "Volleys                     25\n",
              "Preferred Positions    CDM CB \n",
              "Name: 309, dtype: object"
            ]
          },
          "metadata": {},
          "execution_count": 63
        }
      ]
    },
    {
      "cell_type": "code",
      "source": [
        ""
      ],
      "metadata": {
        "id": "YDTbkSO915AA"
      },
      "execution_count": null,
      "outputs": []
    }
  ]
}